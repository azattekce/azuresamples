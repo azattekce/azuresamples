{
 "cells": [
  {
   "cell_type": "code",
   "execution_count": 7,
   "metadata": {},
   "outputs": [],
   "source": [
    "import os\n",
    "import tiktoken\n",
    "import openai\n",
    "from dotenv import load_dotenv\n",
    "\n",
    "# Load environment variables\n",
    "load_dotenv()\n",
    "\n",
    "openai.api_type = \"azure\"\n",
    "openai.api_base = os.environ.get(\"OPENAI_API_BASE\")\n",
    "openai.api_key = os.environ.get(\"OPENAI_API_KEY\")\n",
    "openai.api_version = \"2023-05-15\"\n",
    "\n",
    "CHAT_MODEL =  os.environ.get(\"OPENAI_CHAT_DEPLOYMENT_NAME\") \n",
    "encoding = tiktoken.get_encoding('cl100k_base')"
   ]
  },
  {
   "cell_type": "code",
   "execution_count": 8,
   "metadata": {},
   "outputs": [],
   "source": [
    "def get_completion(prompt, model=CHAT_MODEL):\n",
    "    messages = [{\"role\": \"user\", \"content\": prompt}]\n",
    "    response = openai.ChatCompletion.create(\n",
    "        engine= CHAT_MODEL,\n",
    "        messages=messages,\n",
    "        temperature=0, # this is the degree of randomness of the model's output\n",
    "    )\n",
    "    return response.choices[0].message[\"content\"]"
   ]
  },
  {
   "cell_type": "markdown",
   "metadata": {},
   "source": [
    "### Intentional summarization"
   ]
  },
  {
   "cell_type": "code",
   "execution_count": 9,
   "metadata": {},
   "outputs": [
    {
     "name": "stdout",
     "output_type": "stream",
     "text": [
      "The author got sick in Ireland, returned home, and was diagnosed with a viral infection that took weeks to recover from.\n"
     ]
    }
   ],
   "source": [
    "\n",
    "sampletext = \"During my trip to Ireland in May, I started feeling slightly unwell. I experienced symptoms such as a sore throat and a mild cough. Once I returned home, my condition significantly deteriorated. I developed fever and felt extremely unwell. I consulted a doctor, who prescribed antibiotics for me. Although I felt better for a few days, my health soon worsened again. After two visits to the emergency room, where I received IV fluids and medications, I gradually managed to recover. The diagnosis was a viral infection, and I was informed that it would likely take a couple of weeks to fully recuperate. Here we are, end of May, and I’m still not 100 percent back to normal. I’m still feeling tired.\"\n",
    "\n",
    "prompt = f\"\"\"\n",
    "Summarize the text between two lines of triple dashes in 20 words or less.\n",
    "---\n",
    "{sampletext}\n",
    "---\n",
    "\"\"\"\n",
    "response = get_completion(prompt)\n",
    "print(response)\n",
    "\n"
   ]
  },
  {
   "cell_type": "code",
   "execution_count": 11,
   "metadata": {},
   "outputs": [
    {
     "name": "stdout",
     "output_type": "stream",
     "text": [
      "The author fell ill during a trip to Ireland and experienced worsening symptoms upon returning home, requiring multiple hospital visits to recover.\n"
     ]
    }
   ],
   "source": [
    "\n",
    "sampletext = \"During my trip to Ireland in May, I started feeling slightly unwell. I experienced symptoms such as a sore throat and a mild cough. Once I returned home, my condition significantly deteriorated. I developed fever and felt extremely unwell. I consulted a doctor, who prescribed antibiotics for me. Although I felt better for a few days, my health soon worsened again. After two visits to the emergency room, where I received IV fluids and medications, I gradually managed to recover. The diagnosis was a viral infection, and I was informed that it would likely take a couple of weeks to fully recuperate. Here we are, end of May, and I’m still not 100 percent back to normal. I’m still feeling tired.\"\n",
    "\n",
    "prompt = f\"\"\"\n",
    "Summarize the text between two lines of triple dashes in 20 words or less. Focus on the travel aspect.\n",
    "---\n",
    "{sampletext}\n",
    "---\n",
    "\"\"\"\n",
    "response = get_completion(prompt)\n",
    "print(response)\n",
    "\n"
   ]
  },
  {
   "cell_type": "markdown",
   "metadata": {},
   "source": [
    "### Extractive Summarization"
   ]
  },
  {
   "cell_type": "code",
   "execution_count": 14,
   "metadata": {},
   "outputs": [
    {
     "name": "stdout",
     "output_type": "stream",
     "text": [
      "The writer fell ill during a trip to Ireland in May and experienced worsening symptoms upon returning home. They received medical treatment and are still recovering.\n"
     ]
    }
   ],
   "source": [
    "\n",
    "sampletext = \"During my trip to Ireland in May, I started feeling slightly unwell. I experienced symptoms such as a sore throat and a mild cough. Once I returned home, my condition significantly deteriorated. I developed fever and felt extremely unwell. I consulted a doctor, who prescribed antibiotics for me. Although I felt better for a few days, my health soon worsened again. After two visits to the emergency room, where I received IV fluids and medications, I gradually managed to recover. The diagnosis was a viral infection, and I was informed that it would likely take a couple of weeks to fully recuperate. Here we are, end of May, and I’m still not 100 percent back to normal. I’m still feeling tired.\"\n",
    "\n",
    "prompt = f\"\"\"\n",
    "Extract relevant information from between two lines of triple dashes in 20 words or less. Focus on the travel aspect.\n",
    "---\n",
    "{sampletext}\n",
    "---\n",
    "\"\"\"\n",
    "response = get_completion(prompt)\n",
    "print(response)\n",
    "\n"
   ]
  }
 ],
 "metadata": {
  "kernelspec": {
   "display_name": "openai-qna-env",
   "language": "python",
   "name": "python3"
  },
  "language_info": {
   "codemirror_mode": {
    "name": "ipython",
    "version": 3
   },
   "file_extension": ".py",
   "mimetype": "text/x-python",
   "name": "python",
   "nbconvert_exporter": "python",
   "pygments_lexer": "ipython3",
   "version": "3.11.4"
  },
  "orig_nbformat": 4,
  "vscode": {
   "interpreter": {
    "hash": "c4ee1bbf3137c7ea9420c4fd488a55642063e5739fe2a7286130d9ba47405b69"
   }
  }
 },
 "nbformat": 4,
 "nbformat_minor": 2
}
